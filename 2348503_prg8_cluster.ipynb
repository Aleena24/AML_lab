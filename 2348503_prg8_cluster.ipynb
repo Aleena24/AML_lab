{
  "nbformat": 4,
  "nbformat_minor": 0,
  "metadata": {
    "colab": {
      "provenance": [],
      "authorship_tag": "ABX9TyPLEmFXzMduBj61EChTDPrW",
      "include_colab_link": true
    },
    "kernelspec": {
      "name": "python3",
      "display_name": "Python 3"
    },
    "language_info": {
      "name": "python"
    }
  },
  "cells": [
    {
      "cell_type": "markdown",
      "metadata": {
        "id": "view-in-github",
        "colab_type": "text"
      },
      "source": [
        "<a href=\"https://colab.research.google.com/github/Aleena24/AML_lab/blob/main/2348503_prg8_cluster.ipynb\" target=\"_parent\"><img src=\"https://colab.research.google.com/assets/colab-badge.svg\" alt=\"Open In Colab\"/></a>"
      ]
    },
    {
      "cell_type": "code",
      "execution_count": null,
      "metadata": {
        "id": "2VcNHo0Pvnu9"
      },
      "outputs": [],
      "source": [
        "import pandas as pd\n",
        "import numpy as np\n",
        "import matplotlib.pyplot as plt\n",
        "from sklearn.cluster import KMeans\n",
        "from scipy.cluster.hierarchy import dendrogram, linkage, fcluster\n",
        "from sklearn.metrics import silhouette_score\n",
        "from sklearn.preprocessing import StandardScaler\n",
        "from sklearn.decomposition import PCA\n",
        "from scipy.spatial.distance import pdist, squareform"
      ]
    },
    {
      "cell_type": "code",
      "source": [
        "df = pd.read_csv('/content/online_shoppers_intention.csv')\n",
        "df.head()"
      ],
      "metadata": {
        "id": "Omb4C6Xvv7Uw"
      },
      "execution_count": null,
      "outputs": []
    },
    {
      "cell_type": "code",
      "source": [
        "df.isnull().sum()"
      ],
      "metadata": {
        "id": "oX0Q6inbwphI"
      },
      "execution_count": null,
      "outputs": []
    },
    {
      "cell_type": "code",
      "source": [
        "df.describe()"
      ],
      "metadata": {
        "id": "j1rUosOvw0s7"
      },
      "execution_count": null,
      "outputs": []
    },
    {
      "cell_type": "code",
      "source": [
        "df.columns"
      ],
      "metadata": {
        "id": "592WExb9w33o"
      },
      "execution_count": null,
      "outputs": []
    },
    {
      "cell_type": "code",
      "source": [
        "plt.scatter(x=df['Administrative'], y=df['ProductRelated'])\n",
        "plt.xlabel('Administrative')\n",
        "plt.ylabel('ProductRelated')\n",
        "plt.title('Scatter Plot of Data')\n",
        "plt.show()"
      ],
      "metadata": {
        "id": "pWPy3cRUw_MD"
      },
      "execution_count": null,
      "outputs": []
    },
    {
      "cell_type": "code",
      "source": [
        "col = ['Administrative','ProductRelated']"
      ],
      "metadata": {
        "id": "PoWXQS7r0t0l"
      },
      "execution_count": null,
      "outputs": []
    },
    {
      "cell_type": "markdown",
      "source": [
        "<h1><b>Elbow Method<b><h1>\n",
        "\n",
        "inertia = sum of squared error (sse)"
      ],
      "metadata": {
        "id": "f_fv84KBxjem"
      }
    },
    {
      "cell_type": "code",
      "source": [
        "sse = []\n",
        "for i in range (1,11):\n",
        "  kmeans = KMeans(n_clusters=i,random_state=42)\n",
        "  kmeans.fit(df[col])\n",
        "  sse.append(kmeans.inertia_)"
      ],
      "metadata": {
        "id": "KYZ6cad-xxln"
      },
      "execution_count": null,
      "outputs": []
    },
    {
      "cell_type": "markdown",
      "source": [
        "Elbow Curve"
      ],
      "metadata": {
        "id": "PNu0Vk6S07_1"
      }
    },
    {
      "cell_type": "code",
      "source": [
        "plt.plot(range(1, 11), sse, marker='o')\n",
        "plt.title('Elbow Method For Optimal k')\n",
        "plt.xlabel('Number of clusters')\n",
        "plt.ylabel('Inertia')\n",
        "plt.show()"
      ],
      "metadata": {
        "id": "9kRZY-n107nD"
      },
      "execution_count": null,
      "outputs": []
    },
    {
      "cell_type": "markdown",
      "source": [
        "the point where the inertia(sse) starts to decrease at a slower rate, forming an elbow is the no. of clusters to be formed. So, here according to the figure the no. of clusters is :<b><h3>8<h3><b>"
      ],
      "metadata": {
        "id": "KK2J_iy02Hbq"
      }
    },
    {
      "cell_type": "markdown",
      "source": [
        "<h1><b>K-Means Clustering<h1><b>"
      ],
      "metadata": {
        "id": "Sd98ogDF2jxf"
      }
    },
    {
      "cell_type": "code",
      "source": [
        "optimal_k = int(input(\"Enter the optimal number of clusters: \"))"
      ],
      "metadata": {
        "id": "nNnQGgso3osO"
      },
      "execution_count": null,
      "outputs": []
    },
    {
      "cell_type": "code",
      "source": [
        "kmeans_optimal = KMeans(n_clusters=optimal_k, random_state=2)\n",
        "kmeans_optimal.fit(df[col])"
      ],
      "metadata": {
        "id": "BCEiAkR-2dA1"
      },
      "execution_count": null,
      "outputs": []
    },
    {
      "cell_type": "code",
      "source": [
        "df['KMeans_Optimal'] = kmeans_optimal.labels_\n",
        "\n",
        "plt.scatter(x=df['Administrative'], y=df['ProductRelated'], c=df['KMeans_Optimal'], cmap='viridis')\n",
        "plt.xlabel('Administrative')\n",
        "plt.ylabel('ProductRelated')\n",
        "plt.title(f'K-Means Clustering (Optimal K={optimal_k})')\n",
        "plt.show()"
      ],
      "metadata": {
        "id": "Erd4nTBb2XSG"
      },
      "execution_count": null,
      "outputs": []
    },
    {
      "cell_type": "markdown",
      "source": [
        "# **Silhouette score**"
      ],
      "metadata": {
        "id": "M0bHHerp3d2G"
      }
    },
    {
      "cell_type": "code",
      "source": [
        "sil_avg = silhouette_score(df[col], kmeans_optimal.labels_)\n",
        "print('Silhouette Score : ',sil_avg)"
      ],
      "metadata": {
        "id": "vk1HmBFm3ehK"
      },
      "execution_count": null,
      "outputs": []
    },
    {
      "cell_type": "markdown",
      "source": [
        "## **Hierarchical Clustering**"
      ],
      "metadata": {
        "id": "-EdIHT1r4J-m"
      }
    },
    {
      "cell_type": "code",
      "source": [
        "dsh = StandardScaler().fit_transform(df[col])\n",
        "linkage_matrix = linkage(dsh, method='ward')"
      ],
      "metadata": {
        "id": "AvuJtYOj4MZC"
      },
      "execution_count": null,
      "outputs": []
    },
    {
      "cell_type": "markdown",
      "source": [
        "# dendrogram plotting"
      ],
      "metadata": {
        "id": "elGXcdD14hR_"
      }
    },
    {
      "cell_type": "code",
      "source": [
        "plt.figure(figsize=(12, 8))\n",
        "dendrogram(linkage_matrix)\n",
        "plt.title('Hierarchical Clustering Dendrogram')\n",
        "plt.xlabel('Sample Index')\n",
        "plt.ylabel('Distance')\n",
        "plt.show()"
      ],
      "metadata": {
        "id": "Ms0bNmAI4gEp"
      },
      "execution_count": null,
      "outputs": []
    },
    {
      "cell_type": "code",
      "source": [
        "opt_clus = int(input(\"Enter the optimal number of clusters for Hierarchical clustering: \"))"
      ],
      "metadata": {
        "id": "UQTSchJ_jpKB"
      },
      "execution_count": null,
      "outputs": []
    },
    {
      "cell_type": "code",
      "source": [
        "hierarchical_clusters = fcluster(linkage_matrix, opt_clus, criterion='maxclust')\n",
        "df['Hierarchical_Clusters'] = hierarchical_clusters\n",
        "\n",
        "plt.scatter(x=df['Administrative'], y=df['ProductRelated'], c=df['Hierarchical_Clusters'], cmap='viridis')\n",
        "plt.xlabel('Administrative')\n",
        "plt.ylabel('ProductRelated')\n",
        "plt.title('Hierarchical Clustering Optimal Clusters',opt_clus)\n",
        "plt.show()"
      ],
      "metadata": {
        "id": "lxxVsiOJjwD4"
      },
      "execution_count": null,
      "outputs": []
    },
    {
      "cell_type": "code",
      "source": [
        "pairwise_distances = pdist(StandardScaler().fit_transform(df[col]))\n",
        "pairwise_distances_square = squareform(pairwise_distances)\n",
        "\n",
        "if np.isnan(pairwise_distances_square).any():\n",
        "    raise ValueError(\"Pairwise distances contain missing values. Handle or remove missing values before proceeding.\")\n",
        "\n",
        "if len(hierarchical_clusters) != len(pairwise_distances_square):\n",
        "    raise ValueError(\"Inconsistent numbers of samples between hierarchical_clusters and pairwise_distances_square.\")\n",
        "\n",
        "sah = silhouette_score(pairwise_distances_square, hierarchical_clusters)\n",
        "\n",
        "print('Silhouette Score for Hierarchical Clustering: ',sah)"
      ],
      "metadata": {
        "id": "yDwrICKYkGQW"
      },
      "execution_count": null,
      "outputs": []
    }
  ]
}